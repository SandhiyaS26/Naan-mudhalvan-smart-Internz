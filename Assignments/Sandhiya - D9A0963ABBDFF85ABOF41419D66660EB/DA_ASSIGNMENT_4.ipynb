{
  "nbformat": 4,
  "nbformat_minor": 0,
  "metadata": {
    "colab": {
      "provenance": []
    },
    "kernelspec": {
      "name": "python3",
      "display_name": "Python 3"
    },
    "language_info": {
      "name": "python"
    }
  },
  "cells": [
    {
      "cell_type": "code",
      "execution_count": null,
      "metadata": {
        "colab": {
          "base_uri": "https://localhost:8080/"
        },
        "id": "UErKM-X07X_a",
        "outputId": "2108521d-36ad-4028-cb99-e6ede03f8994"
      },
      "outputs": [
        {
          "output_type": "stream",
          "name": "stdout",
          "text": [
            "[1, 2, 3, 4, 5, 6]\n"
          ]
        }
      ],
      "source": [
        "#Task -1\n",
        "# Create two lists\n",
        "list1 = [1, 2, 3]\n",
        "list2 = [4, 5, 6]\n",
        "\n",
        "# Concatenate or join the two lists\n",
        "combined_list = list1 + list2\n",
        "\n",
        "# Print the combined list\n",
        "print(combined_list)"
      ]
    },
    {
      "cell_type": "code",
      "source": [
        "#Task-2\n",
        "# Create a list of numbers\n",
        "numbers = [1, 2, 3, 4, 5, 6, 7, 8, 9, 10]\n",
        "\n",
        "# Initialize an empty list to store the even numbers\n",
        "even_numbers = []\n",
        "\n",
        "# Iterate through the list and use an if statement to find even numbers\n",
        "for num in numbers:\n",
        "    if num % 2 == 0:\n",
        "        even_numbers.append(num)\n",
        "\n",
        "# Print the list of even numbers\n",
        "print(\"Even numbers:\", even_numbers)\n",
        "\n"
      ],
      "metadata": {
        "colab": {
          "base_uri": "https://localhost:8080/"
        },
        "id": "RWQFoNDF7nTX",
        "outputId": "fbc52514-d1b9-44f6-8db4-f21dcfab4a3b"
      },
      "execution_count": null,
      "outputs": [
        {
          "output_type": "stream",
          "name": "stdout",
          "text": [
            "Even numbers: [2, 4, 6, 8, 10]\n"
          ]
        }
      ]
    },
    {
      "cell_type": "code",
      "source": [
        "#Task-3\n",
        "# Create a dictionary with 3 keys, each having 2 values\n",
        "student_grades = {\n",
        "    \"Alice\": [92, 88],\n",
        "    \"Bob\": [78, 84],\n",
        "    \"Charlie\": [88, 90]\n",
        "}\n",
        "\n",
        "# Accessing the values for each student\n",
        "alice_grades = student_grades[\"Alice\"]\n",
        "bob_grades = student_grades[\"Bob\"]\n",
        "charlie_grades = student_grades[\"Charlie\"]\n",
        "\n",
        "# Print the grades for each student\n",
        "print(\"Alice's Grades:\", alice_grades)\n",
        "print(\"Bob's Grades:\", bob_grades)\n",
        "print(\"Charlie's Grades:\", charlie_grades)\n"
      ],
      "metadata": {
        "colab": {
          "base_uri": "https://localhost:8080/"
        },
        "id": "mNTz1nXR7qm_",
        "outputId": "ca5cc98a-dcdd-4cfc-ba5d-7279e04aab0a"
      },
      "execution_count": null,
      "outputs": [
        {
          "output_type": "stream",
          "name": "stdout",
          "text": [
            "Alice's Grades: [92, 88]\n",
            "Bob's Grades: [78, 84]\n",
            "Charlie's Grades: [88, 90]\n"
          ]
        }
      ]
    },
    {
      "cell_type": "code",
      "source": [
        "#Task-4\n",
        "def find_odd_numbers(numbers):\n",
        "    # Initialize an empty list to store the odd numbers\n",
        "    odd_numbers = []\n",
        "\n",
        "    # Iterate through the input list and use an if statement to find odd numbers\n",
        "    for num in numbers:\n",
        "        if num % 2 != 0:\n",
        "            odd_numbers.append(num)\n",
        "\n",
        "    return odd_numbers\n",
        "\n",
        "# Example usage:\n",
        "numbers = [1, 2, 3, 4, 5, 6, 7, 8, 9, 10]\n",
        "odd_numbers = find_odd_numbers(numbers)\n",
        "print(\"Odd numbers:\", odd_numbers)\n"
      ],
      "metadata": {
        "colab": {
          "base_uri": "https://localhost:8080/"
        },
        "id": "v9TIcP-47thu",
        "outputId": "89b00500-b183-4793-921e-dd3b38ebdee0"
      },
      "execution_count": null,
      "outputs": [
        {
          "output_type": "stream",
          "name": "stdout",
          "text": [
            "Odd numbers: [1, 3, 5, 7, 9]\n"
          ]
        }
      ]
    },
    {
      "cell_type": "code",
      "source": [
        "#Task-5\n",
        "def sum_numbers():\n",
        "    num_list = [2, 7, 7, 3, 0]\n",
        "    total = sum(num_list)\n",
        "    print(\"Sum of the numbers:\", total)\n",
        "\n",
        "# Call the function to calculate and print the sum\n",
        "sum_numbers()"
      ],
      "metadata": {
        "id": "P1NSZ-mP7wqf",
        "outputId": "6a049b83-c1b7-4735-d41c-daddddfc7bba",
        "colab": {
          "base_uri": "https://localhost:8080/"
        }
      },
      "execution_count": null,
      "outputs": [
        {
          "output_type": "stream",
          "name": "stdout",
          "text": [
            "Sum of the numbers: 19\n"
          ]
        }
      ]
    }
  ]
}