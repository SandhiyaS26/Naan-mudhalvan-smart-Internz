{
  "nbformat": 4,
  "nbformat_minor": 0,
  "metadata": {
    "colab": {
      "provenance": []
    },
    "kernelspec": {
      "name": "python3",
      "display_name": "Python 3"
    },
    "language_info": {
      "name": "python"
    }
  },
  "cells": [
    {
      "cell_type": "code",
      "source": [
        "#Task -1\n",
        "# Create two lists\n",
        "list1 = [1, 2, 3]\n",
        "list2 = [4, 5, 6]\n",
        "\n",
        "# Concatenate or join the two lists\n",
        "combined_list = list1 + list2\n",
        "\n",
        "# Print the combined list\n",
        "print(combined_list)"
      ],
      "metadata": {
        "colab": {
          "base_uri": "https://localhost:8080/"
        },
        "id": "XLHae5mWGEtd",
        "outputId": "7f92c6db-fbd1-4081-e701-4eeaa6b3370d"
      },
      "execution_count": 2,
      "outputs": [
        {
          "output_type": "stream",
          "name": "stdout",
          "text": [
            "[1, 2, 3, 4, 5, 6]\n"
          ]
        }
      ]
    },
    {
      "cell_type": "code",
      "source": [
        "#Task-2\n",
        "# Create a list of numbers\n",
        "numbers = [1, 2, 3, 4, 5, 6, 7, 8, 9, 10]\n",
        "\n",
        "# Initialize an empty list to store the even numbers\n",
        "even_numbers = []\n",
        "\n",
        "# Iterate through the list and use an if statement to find even numbers\n",
        "for num in numbers:\n",
        "    if num % 2 == 0:\n",
        "        even_numbers.append(num)\n",
        "\n",
        "# Print the list of even numbers\n",
        "print(\"Even numbers:\", even_numbers)\n"
      ],
      "metadata": {
        "colab": {
          "base_uri": "https://localhost:8080/"
        },
        "id": "eCBljTJFGK6t",
        "outputId": "b8bfc5a6-b4c9-4020-8c10-a8780d114bbc"
      },
      "execution_count": 3,
      "outputs": [
        {
          "output_type": "stream",
          "name": "stdout",
          "text": [
            "Even numbers: [2, 4, 6, 8, 10]\n"
          ]
        }
      ]
    },
    {
      "cell_type": "code",
      "source": [
        "#Task-3\n",
        "# Create a dictionary with 3 keys, each having 2 values\n",
        "student_grades = {\n",
        "    \"Alice\": [92, 88],\n",
        "    \"Bob\": [78, 84],\n",
        "    \"Charlie\": [88, 90]\n",
        "}\n",
        "\n",
        "# Accessing the values for each student\n",
        "alice_grades = student_grades[\"Alice\"]\n",
        "bob_grades = student_grades[\"Bob\"]\n",
        "charlie_grades = student_grades[\"Charlie\"]\n",
        "\n",
        "# Print the grades for each student\n",
        "print(\"Alice's Grades:\", alice_grades)\n",
        "print(\"Bob's Grades:\", bob_grades)\n",
        "print(\"Charlie's Grades:\", charlie_grades)"
      ],
      "metadata": {
        "colab": {
          "base_uri": "https://localhost:8080/"
        },
        "id": "eTX6GxCQGN68",
        "outputId": "56632292-1eb8-4022-c5f8-53c912d04187"
      },
      "execution_count": 4,
      "outputs": [
        {
          "output_type": "stream",
          "name": "stdout",
          "text": [
            "Alice's Grades: [92, 88]\n",
            "Bob's Grades: [78, 84]\n",
            "Charlie's Grades: [88, 90]\n"
          ]
        }
      ]
    },
    {
      "cell_type": "code",
      "source": [
        "#Task-4\n",
        "def find_odd_numbers(numbers):\n",
        "    # Initialize an empty list to store the odd numbers\n",
        "    odd_numbers = []\n",
        "\n",
        "    # Iterate through the input list and use an if statement to find odd numbers\n",
        "    for num in numbers:\n",
        "        if num % 2 != 0:\n",
        "            odd_numbers.append(num)\n",
        "\n",
        "    return odd_numbers\n",
        "\n",
        "# Example usage:\n",
        "numbers = [1, 2, 3, 4, 5, 6, 7, 8, 9, 10]\n",
        "odd_numbers = find_odd_numbers(numbers)\n",
        "print(\"Odd numbers:\", odd_numbers)"
      ],
      "metadata": {
        "colab": {
          "base_uri": "https://localhost:8080/"
        },
        "id": "VfUSKDryGSOs",
        "outputId": "c639dca6-ea3b-45e6-ed77-bc2556af29b2"
      },
      "execution_count": 5,
      "outputs": [
        {
          "output_type": "stream",
          "name": "stdout",
          "text": [
            "Odd numbers: [1, 3, 5, 7, 9]\n"
          ]
        }
      ]
    },
    {
      "cell_type": "code",
      "source": [
        "#Task-5\n",
        "def sum_numbers():\n",
        "    num_list = [2, 7, 7, 3, 0]\n",
        "    total = sum(num_list)\n",
        "    print(\"Sum of the numbers:\", total)\n",
        "\n",
        "# Call the function to calculate and print the sum\n",
        "sum_numbers()\n"
      ],
      "metadata": {
        "colab": {
          "base_uri": "https://localhost:8080/"
        },
        "id": "95DW8EDQGYU8",
        "outputId": "c6fbdc3d-64f6-4770-9b16-4402be064e93"
      },
      "execution_count": 6,
      "outputs": [
        {
          "output_type": "stream",
          "name": "stdout",
          "text": [
            "Sum of the numbers: 19\n"
          ]
        }
      ]
    }
  ]
}