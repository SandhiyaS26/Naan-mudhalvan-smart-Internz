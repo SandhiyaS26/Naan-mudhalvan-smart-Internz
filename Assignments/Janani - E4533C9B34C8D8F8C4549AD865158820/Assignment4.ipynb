{
  "nbformat": 4,
  "nbformat_minor": 0,
  "metadata": {
    "colab": {
      "provenance": []
    },
    "kernelspec": {
      "name": "python3",
      "display_name": "Python 3"
    },
    "language_info": {
      "name": "python"
    }
  },
  "cells": [
    {
      "cell_type": "code",
      "execution_count": 1,
      "metadata": {
        "colab": {
          "base_uri": "https://localhost:8080/"
        },
        "id": "dBtaxFPaTITR",
        "outputId": "614753e9-e098-4a95-c2d8-8ea39193f951"
      },
      "outputs": [
        {
          "output_type": "stream",
          "name": "stdout",
          "text": [
            "[1, 2, 3, 4, 5, 6]\n"
          ]
        }
      ],
      "source": [
        "#Task -1\n",
        "# Create two lists\n",
        "list1 = [1, 2, 3]\n",
        "list2 = [4, 5, 6]\n",
        "\n",
        "# Concatenate or join the two lists\n",
        "combined_list = list1 + list2\n",
        "\n",
        "# Print the combined list\n",
        "print(combined_list)\n"
      ]
    },
    {
      "cell_type": "code",
      "source": [
        "#Task-2\n",
        "# Create a list of numbers\n",
        "numbers = [1, 2, 3, 4, 5, 6, 7, 8, 9, 10]\n",
        "\n",
        "# Initialize an empty list to store the even numbers\n",
        "even_numbers = []\n",
        "\n",
        "# Iterate through the list and use an if statement to find even numbers\n",
        "for num in numbers:\n",
        "    if num % 2 == 0:\n",
        "        even_numbers.append(num)\n",
        "\n",
        "# Print the list of even numbers\n",
        "print(\"Even numbers:\", even_numbers)\n"
      ],
      "metadata": {
        "colab": {
          "base_uri": "https://localhost:8080/"
        },
        "id": "L3LyJu5gTL-x",
        "outputId": "38e60693-8263-423c-89f2-beddfabea64f"
      },
      "execution_count": 2,
      "outputs": [
        {
          "output_type": "stream",
          "name": "stdout",
          "text": [
            "Even numbers: [2, 4, 6, 8, 10]\n"
          ]
        }
      ]
    },
    {
      "cell_type": "code",
      "source": [
        "#Task-3\n",
        "# Create a dictionary with 3 keys, each having 2 values\n",
        "student_grades = {\n",
        "    \"Alice\": [92, 88],\n",
        "    \"Bob\": [78, 84],\n",
        "    \"Charlie\": [88, 90]\n",
        "}\n",
        "\n",
        "# Accessing the values for each student\n",
        "alice_grades = student_grades[\"Alice\"]\n",
        "bob_grades = student_grades[\"Bob\"]\n",
        "charlie_grades = student_grades[\"Charlie\"]\n",
        "\n",
        "# Print the grades for each student\n",
        "print(\"Alice's Grades:\", alice_grades)\n",
        "print(\"Bob's Grades:\", bob_grades)\n",
        "print(\"Charlie's Grades:\", charlie_grades)"
      ],
      "metadata": {
        "colab": {
          "base_uri": "https://localhost:8080/"
        },
        "id": "AJ4cFfCVTSJX",
        "outputId": "c80d86a2-9ee7-44cb-d3ad-5cae125e00e2"
      },
      "execution_count": 3,
      "outputs": [
        {
          "output_type": "stream",
          "name": "stdout",
          "text": [
            "Alice's Grades: [92, 88]\n",
            "Bob's Grades: [78, 84]\n",
            "Charlie's Grades: [88, 90]\n"
          ]
        }
      ]
    },
    {
      "cell_type": "code",
      "source": [
        "#Task-4\n",
        "def find_odd_numbers(numbers):\n",
        "    # Initialize an empty list to store the odd numbers\n",
        "    odd_numbers = []\n",
        "\n",
        "    # Iterate through the input list and use an if statement to find odd numbers\n",
        "    for num in numbers:\n",
        "        if num % 2 != 0:\n",
        "            odd_numbers.append(num)\n",
        "\n",
        "    return odd_numbers\n",
        "\n",
        "# Example usage:\n",
        "numbers = [1, 2, 3, 4, 5, 6, 7, 8, 9, 10]\n",
        "odd_numbers = find_odd_numbers(numbers)\n",
        "print(\"Odd numbers:\", odd_numbers)"
      ],
      "metadata": {
        "colab": {
          "base_uri": "https://localhost:8080/"
        },
        "id": "2Mi_uStZTVxF",
        "outputId": "6500bee8-03aa-4c98-cd01-5ce319b7f64b"
      },
      "execution_count": 4,
      "outputs": [
        {
          "output_type": "stream",
          "name": "stdout",
          "text": [
            "Odd numbers: [1, 3, 5, 7, 9]\n"
          ]
        }
      ]
    },
    {
      "cell_type": "code",
      "source": [
        "#Task-5\n",
        "def sum_numbers():\n",
        "    num_list = [2, 7, 7, 3, 0]\n",
        "    total = sum(num_list)\n",
        "    print(\"Sum of the numbers:\", total)\n",
        "\n",
        "# Call the function to calculate and print the sum\n",
        "sum_numbers()"
      ],
      "metadata": {
        "colab": {
          "base_uri": "https://localhost:8080/"
        },
        "id": "pMvPvxc4TZ8f",
        "outputId": "0a5c7f3b-eeb3-4203-daf5-56c71bc88cc6"
      },
      "execution_count": 5,
      "outputs": [
        {
          "output_type": "stream",
          "name": "stdout",
          "text": [
            "Sum of the numbers: 19\n"
          ]
        }
      ]
    }
  ]
}